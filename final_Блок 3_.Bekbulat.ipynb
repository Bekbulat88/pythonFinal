{
 "cells": [
  {
   "cell_type": "code",
   "execution_count": 2,
   "id": "d15ce546",
   "metadata": {},
   "outputs": [],
   "source": [
    "import pandas as pd\n",
    "import numpy as np\n",
    "import matplotlib.pyplot as plt\n",
    "import seaborn as sns\n"
   ]
  },
  {
   "cell_type": "code",
   "execution_count": 3,
   "id": "6638ea08",
   "metadata": {},
   "outputs": [
    {
     "name": "stdout",
     "output_type": "stream",
     "text": [
      "         Дата  Склад Контрагент Номенклатура  Количество\n",
      "0  2018-01-04      1  address_0    product_0           4\n",
      "1  2018-01-04      1  address_0    product_1           4\n",
      "2  2018-01-04      1  address_0    product_2           5\n",
      "3  2018-01-04      1  address_0    product_3          10\n",
      "4  2018-01-04      1  address_0    product_4           2\n"
     ]
    }
   ],
   "source": [
    "# Прочитайте данные (переменную назовите 'df')\n",
    "df = pd.read_csv('data.csv')\n",
    "\n",
    "# Вывести несколько первых строк таблицы данных\n",
    "print(df.head())"
   ]
  },
  {
   "cell_type": "code",
   "execution_count": null,
   "id": "fe010fc4",
   "metadata": {},
   "outputs": [],
   "source": []
  },
  {
   "cell_type": "markdown",
   "id": "a8e1b306",
   "metadata": {},
   "source": [
    "Проверяем формат столбцов"
   ]
  },
  {
   "cell_type": "code",
   "execution_count": 4,
   "id": "0db7a439",
   "metadata": {},
   "outputs": [
    {
     "name": "stdout",
     "output_type": "stream",
     "text": [
      "Дата            object\n",
      "Склад            int64\n",
      "Контрагент      object\n",
      "Номенклатура    object\n",
      "Количество       int64\n",
      "dtype: object\n"
     ]
    }
   ],
   "source": [
    "print(df.dtypes)"
   ]
  },
  {
   "cell_type": "markdown",
   "id": "ab427988",
   "metadata": {},
   "source": [
    "Сразу переведем столбец \"Дата\" в правильный формат"
   ]
  },
  {
   "cell_type": "code",
   "execution_count": 5,
   "id": "317e1a0b",
   "metadata": {},
   "outputs": [],
   "source": [
    "df['Дата'] = pd.to_datetime(df['Дата'])"
   ]
  },
  {
   "cell_type": "code",
   "execution_count": 6,
   "id": "429a7d83-acd2-41f9-b544-f14b6ee4a2c3",
   "metadata": {},
   "outputs": [
    {
     "data": {
      "text/html": [
       "<div>\n",
       "<style scoped>\n",
       "    .dataframe tbody tr th:only-of-type {\n",
       "        vertical-align: middle;\n",
       "    }\n",
       "\n",
       "    .dataframe tbody tr th {\n",
       "        vertical-align: top;\n",
       "    }\n",
       "\n",
       "    .dataframe thead th {\n",
       "        text-align: right;\n",
       "    }\n",
       "</style>\n",
       "<table border=\"1\" class=\"dataframe\">\n",
       "  <thead>\n",
       "    <tr style=\"text-align: right;\">\n",
       "      <th></th>\n",
       "      <th>Дата</th>\n",
       "      <th>Склад</th>\n",
       "      <th>Контрагент</th>\n",
       "      <th>Номенклатура</th>\n",
       "      <th>Количество</th>\n",
       "    </tr>\n",
       "  </thead>\n",
       "  <tbody>\n",
       "    <tr>\n",
       "      <th>0</th>\n",
       "      <td>2018-01-04</td>\n",
       "      <td>1</td>\n",
       "      <td>address_0</td>\n",
       "      <td>product_0</td>\n",
       "      <td>4</td>\n",
       "    </tr>\n",
       "    <tr>\n",
       "      <th>1</th>\n",
       "      <td>2018-01-04</td>\n",
       "      <td>1</td>\n",
       "      <td>address_0</td>\n",
       "      <td>product_1</td>\n",
       "      <td>4</td>\n",
       "    </tr>\n",
       "    <tr>\n",
       "      <th>2</th>\n",
       "      <td>2018-01-04</td>\n",
       "      <td>1</td>\n",
       "      <td>address_0</td>\n",
       "      <td>product_2</td>\n",
       "      <td>5</td>\n",
       "    </tr>\n",
       "    <tr>\n",
       "      <th>3</th>\n",
       "      <td>2018-01-04</td>\n",
       "      <td>1</td>\n",
       "      <td>address_0</td>\n",
       "      <td>product_3</td>\n",
       "      <td>10</td>\n",
       "    </tr>\n",
       "    <tr>\n",
       "      <th>4</th>\n",
       "      <td>2018-01-04</td>\n",
       "      <td>1</td>\n",
       "      <td>address_0</td>\n",
       "      <td>product_4</td>\n",
       "      <td>2</td>\n",
       "    </tr>\n",
       "  </tbody>\n",
       "</table>\n",
       "</div>"
      ],
      "text/plain": [
       "        Дата  Склад Контрагент Номенклатура  Количество\n",
       "0 2018-01-04      1  address_0    product_0           4\n",
       "1 2018-01-04      1  address_0    product_1           4\n",
       "2 2018-01-04      1  address_0    product_2           5\n",
       "3 2018-01-04      1  address_0    product_3          10\n",
       "4 2018-01-04      1  address_0    product_4           2"
      ]
     },
     "execution_count": 6,
     "metadata": {},
     "output_type": "execute_result"
    }
   ],
   "source": [
    "df.head()"
   ]
  },
  {
   "cell_type": "markdown",
   "id": "c117ede9",
   "metadata": {},
   "source": [
    "Сгруппируйте данные по дате, посчитайте количество продаж"
   ]
  },
  {
   "cell_type": "code",
   "execution_count": 7,
   "id": "66085e84",
   "metadata": {},
   "outputs": [],
   "source": [
    "grouped_df = df.groupby('Дата')[['Количество']].sum()"
   ]
  },
  {
   "cell_type": "markdown",
   "id": "fbfd90ac",
   "metadata": {},
   "source": [
    "Вывести несколько первых строк сгруппированных данных"
   ]
  },
  {
   "cell_type": "code",
   "execution_count": 8,
   "id": "79e12654",
   "metadata": {},
   "outputs": [],
   "source": [
    "grouped_df = grouped_df.reset_index()\n"
   ]
  },
  {
   "cell_type": "code",
   "execution_count": 9,
   "id": "a3feafc4-5664-4a70-ba7f-c314dddeffcf",
   "metadata": {},
   "outputs": [
    {
     "data": {
      "text/html": [
       "<div>\n",
       "<style scoped>\n",
       "    .dataframe tbody tr th:only-of-type {\n",
       "        vertical-align: middle;\n",
       "    }\n",
       "\n",
       "    .dataframe tbody tr th {\n",
       "        vertical-align: top;\n",
       "    }\n",
       "\n",
       "    .dataframe thead th {\n",
       "        text-align: right;\n",
       "    }\n",
       "</style>\n",
       "<table border=\"1\" class=\"dataframe\">\n",
       "  <thead>\n",
       "    <tr style=\"text-align: right;\">\n",
       "      <th></th>\n",
       "      <th>Дата</th>\n",
       "      <th>Количество</th>\n",
       "    </tr>\n",
       "  </thead>\n",
       "  <tbody>\n",
       "    <tr>\n",
       "      <th>0</th>\n",
       "      <td>2018-01-04</td>\n",
       "      <td>3734</td>\n",
       "    </tr>\n",
       "    <tr>\n",
       "      <th>1</th>\n",
       "      <td>2018-01-05</td>\n",
       "      <td>3643</td>\n",
       "    </tr>\n",
       "    <tr>\n",
       "      <th>2</th>\n",
       "      <td>2018-01-06</td>\n",
       "      <td>3193</td>\n",
       "    </tr>\n",
       "    <tr>\n",
       "      <th>3</th>\n",
       "      <td>2018-01-07</td>\n",
       "      <td>3298</td>\n",
       "    </tr>\n",
       "    <tr>\n",
       "      <th>4</th>\n",
       "      <td>2018-01-09</td>\n",
       "      <td>4055</td>\n",
       "    </tr>\n",
       "    <tr>\n",
       "      <th>...</th>\n",
       "      <td>...</td>\n",
       "      <td>...</td>\n",
       "    </tr>\n",
       "    <tr>\n",
       "      <th>200</th>\n",
       "      <td>2018-08-26</td>\n",
       "      <td>5302</td>\n",
       "    </tr>\n",
       "    <tr>\n",
       "      <th>201</th>\n",
       "      <td>2018-08-28</td>\n",
       "      <td>5983</td>\n",
       "    </tr>\n",
       "    <tr>\n",
       "      <th>202</th>\n",
       "      <td>2018-08-29</td>\n",
       "      <td>4969</td>\n",
       "    </tr>\n",
       "    <tr>\n",
       "      <th>203</th>\n",
       "      <td>2018-08-30</td>\n",
       "      <td>4648</td>\n",
       "    </tr>\n",
       "    <tr>\n",
       "      <th>204</th>\n",
       "      <td>2018-08-31</td>\n",
       "      <td>4570</td>\n",
       "    </tr>\n",
       "  </tbody>\n",
       "</table>\n",
       "<p>205 rows × 2 columns</p>\n",
       "</div>"
      ],
      "text/plain": [
       "          Дата  Количество\n",
       "0   2018-01-04        3734\n",
       "1   2018-01-05        3643\n",
       "2   2018-01-06        3193\n",
       "3   2018-01-07        3298\n",
       "4   2018-01-09        4055\n",
       "..         ...         ...\n",
       "200 2018-08-26        5302\n",
       "201 2018-08-28        5983\n",
       "202 2018-08-29        4969\n",
       "203 2018-08-30        4648\n",
       "204 2018-08-31        4570\n",
       "\n",
       "[205 rows x 2 columns]"
      ]
     },
     "execution_count": 9,
     "metadata": {},
     "output_type": "execute_result"
    }
   ],
   "source": [
    "grouped_df"
   ]
  },
  {
   "cell_type": "markdown",
   "id": "9ce32d36",
   "metadata": {},
   "source": [
    "Нарисуйте график продаж у `grouped_df`"
   ]
  },
  {
   "cell_type": "code",
   "execution_count": 10,
   "id": "9a46b2f5",
   "metadata": {},
   "outputs": [
    {
     "data": {
      "image/png": "[encoded data removed]",
      "text/plain": [
       "<Figure size 900x500 with 1 Axes>"
      ]
     },
     "metadata": {},
     "output_type": "display_data"
    }
   ],
   "source": [
    "plt.figure(figsize = (9,5))\n",
    "plt.plot(grouped_df['Количество'])\n",
    "plt.title('График продаж')\n",
    "plt.show()"
   ]
  },
  {
   "cell_type": "markdown",
   "id": "311b54f3",
   "metadata": {},
   "source": [
    "Опишите что вы видите на графике. Ваша задача - максимально описать график"
   ]
  },
  {
   "cell_type": "code",
   "execution_count": 11,
   "id": "c35df4fa",
   "metadata": {},
   "outputs": [],
   "source": [
    "# На графике вижу что тренд продаж в целом положительный, хоть и есть колебания в течении роста.\n",
    "# сильное падение наблюдалосm в середине апреля, но быстро поправилось"
   ]
  },
  {
   "cell_type": "markdown",
   "id": "85412b89",
   "metadata": {},
   "source": [
    "Найдите строку, у которой максимальный выброс по количеству продаж (нужно найти выброс у `df`)"
   ]
  },
  {
   "cell_type": "code",
   "execution_count": 12,
   "id": "2baebf0c",
   "metadata": {},
   "outputs": [
    {
     "data": {
      "text/plain": [
       "count    301355.000000\n",
       "mean          2.951559\n",
       "std           2.998154\n",
       "min           0.000000\n",
       "25%           1.000000\n",
       "50%           2.000000\n",
       "75%           4.000000\n",
       "max         200.000000\n",
       "Name: Количество, dtype: float64"
      ]
     },
     "execution_count": 12,
     "metadata": {},
     "output_type": "execute_result"
    }
   ],
   "source": [
    "df['Количество'].describe()"
   ]
  },
  {
   "cell_type": "code",
   "execution_count": 13,
   "id": "b0710cb0-f4cf-4545-b0aa-3ae8776aa756",
   "metadata": {},
   "outputs": [
    {
     "data": {
      "text/html": [
       "<div>\n",
       "<style scoped>\n",
       "    .dataframe tbody tr th:only-of-type {\n",
       "        vertical-align: middle;\n",
       "    }\n",
       "\n",
       "    .dataframe tbody tr th {\n",
       "        vertical-align: top;\n",
       "    }\n",
       "\n",
       "    .dataframe thead th {\n",
       "        text-align: right;\n",
       "    }\n",
       "</style>\n",
       "<table border=\"1\" class=\"dataframe\">\n",
       "  <thead>\n",
       "    <tr style=\"text-align: right;\">\n",
       "      <th></th>\n",
       "      <th>Дата</th>\n",
       "      <th>Склад</th>\n",
       "      <th>Контрагент</th>\n",
       "      <th>Номенклатура</th>\n",
       "      <th>Количество</th>\n",
       "    </tr>\n",
       "  </thead>\n",
       "  <tbody>\n",
       "    <tr>\n",
       "      <th>218822</th>\n",
       "      <td>2018-06-28</td>\n",
       "      <td>1</td>\n",
       "      <td>address_208</td>\n",
       "      <td>product_0</td>\n",
       "      <td>200</td>\n",
       "    </tr>\n",
       "  </tbody>\n",
       "</table>\n",
       "</div>"
      ],
      "text/plain": [
       "             Дата  Склад   Контрагент Номенклатура  Количество\n",
       "218822 2018-06-28      1  address_208    product_0         200"
      ]
     },
     "execution_count": 13,
     "metadata": {},
     "output_type": "execute_result"
    }
   ],
   "source": [
    "df[df['Количество']==200]"
   ]
  },
  {
   "cell_type": "markdown",
   "id": "30aa9654",
   "metadata": {},
   "source": [
    "Найдите топовый товар по продажам по средам за июнь, июль, август у 3 склада"
   ]
  },
  {
   "cell_type": "code",
   "execution_count": 14,
   "id": "c3d75d16",
   "metadata": {},
   "outputs": [],
   "source": [
    "df['День недели'] = df['Дата'].dt.dayofweek"
   ]
  },
  {
   "cell_type": "code",
   "execution_count": 15,
   "id": "37bb775e-098f-40ef-9f21-4d523ae21211",
   "metadata": {},
   "outputs": [],
   "source": [
    "df['Месяц'] = df['Дата'].dt.month"
   ]
  },
  {
   "cell_type": "code",
   "execution_count": 16,
   "id": "fffde48e-8e6b-4977-948e-0410788d2db3",
   "metadata": {},
   "outputs": [],
   "source": [
    "summerProducts = df[(df['День недели'] == 2) & (df['Месяц'].isin([6,7,8]) & (df['Склад'] == 3))].groupby('Номенклатура')"
   ]
  },
  {
   "cell_type": "code",
   "execution_count": 17,
   "id": "722aeb63-75ff-4ddd-b552-8d80c648f8fa",
   "metadata": {},
   "outputs": [
    {
     "data": {
      "text/html": [
       "<div>\n",
       "<style scoped>\n",
       "    .dataframe tbody tr th:only-of-type {\n",
       "        vertical-align: middle;\n",
       "    }\n",
       "\n",
       "    .dataframe tbody tr th {\n",
       "        vertical-align: top;\n",
       "    }\n",
       "\n",
       "    .dataframe thead th {\n",
       "        text-align: right;\n",
       "    }\n",
       "</style>\n",
       "<table border=\"1\" class=\"dataframe\">\n",
       "  <thead>\n",
       "    <tr style=\"text-align: right;\">\n",
       "      <th></th>\n",
       "      <th>Дата</th>\n",
       "      <th>Склад</th>\n",
       "      <th>Контрагент</th>\n",
       "      <th>Номенклатура</th>\n",
       "      <th>Количество</th>\n",
       "      <th>День недели</th>\n",
       "      <th>Месяц</th>\n",
       "    </tr>\n",
       "  </thead>\n",
       "  <tbody>\n",
       "    <tr>\n",
       "      <th>191165</th>\n",
       "      <td>2018-06-06</td>\n",
       "      <td>3</td>\n",
       "      <td>address_206</td>\n",
       "      <td>product_0</td>\n",
       "      <td>2</td>\n",
       "      <td>2</td>\n",
       "      <td>6</td>\n",
       "    </tr>\n",
       "    <tr>\n",
       "      <th>191166</th>\n",
       "      <td>2018-06-06</td>\n",
       "      <td>3</td>\n",
       "      <td>address_206</td>\n",
       "      <td>product_1</td>\n",
       "      <td>4</td>\n",
       "      <td>2</td>\n",
       "      <td>6</td>\n",
       "    </tr>\n",
       "    <tr>\n",
       "      <th>191167</th>\n",
       "      <td>2018-06-06</td>\n",
       "      <td>3</td>\n",
       "      <td>address_206</td>\n",
       "      <td>product_2</td>\n",
       "      <td>4</td>\n",
       "      <td>2</td>\n",
       "      <td>6</td>\n",
       "    </tr>\n",
       "    <tr>\n",
       "      <th>191168</th>\n",
       "      <td>2018-06-06</td>\n",
       "      <td>3</td>\n",
       "      <td>address_206</td>\n",
       "      <td>product_3</td>\n",
       "      <td>2</td>\n",
       "      <td>2</td>\n",
       "      <td>6</td>\n",
       "    </tr>\n",
       "    <tr>\n",
       "      <th>191169</th>\n",
       "      <td>2018-06-06</td>\n",
       "      <td>3</td>\n",
       "      <td>address_206</td>\n",
       "      <td>product_4</td>\n",
       "      <td>1</td>\n",
       "      <td>2</td>\n",
       "      <td>6</td>\n",
       "    </tr>\n",
       "    <tr>\n",
       "      <th>...</th>\n",
       "      <td>...</td>\n",
       "      <td>...</td>\n",
       "      <td>...</td>\n",
       "      <td>...</td>\n",
       "      <td>...</td>\n",
       "      <td>...</td>\n",
       "      <td>...</td>\n",
       "    </tr>\n",
       "    <tr>\n",
       "      <th>200135</th>\n",
       "      <td>2018-06-13</td>\n",
       "      <td>3</td>\n",
       "      <td>address_83</td>\n",
       "      <td>product_14</td>\n",
       "      <td>1</td>\n",
       "      <td>2</td>\n",
       "      <td>6</td>\n",
       "    </tr>\n",
       "    <tr>\n",
       "      <th>200318</th>\n",
       "      <td>2018-06-13</td>\n",
       "      <td>3</td>\n",
       "      <td>address_102</td>\n",
       "      <td>product_16</td>\n",
       "      <td>2</td>\n",
       "      <td>2</td>\n",
       "      <td>6</td>\n",
       "    </tr>\n",
       "    <tr>\n",
       "      <th>209019</th>\n",
       "      <td>2018-06-20</td>\n",
       "      <td>3</td>\n",
       "      <td>address_105</td>\n",
       "      <td>product_16</td>\n",
       "      <td>2</td>\n",
       "      <td>2</td>\n",
       "      <td>6</td>\n",
       "    </tr>\n",
       "    <tr>\n",
       "      <th>218027</th>\n",
       "      <td>2018-06-27</td>\n",
       "      <td>3</td>\n",
       "      <td>address_105</td>\n",
       "      <td>product_16</td>\n",
       "      <td>2</td>\n",
       "      <td>2</td>\n",
       "      <td>6</td>\n",
       "    </tr>\n",
       "    <tr>\n",
       "      <th>226862</th>\n",
       "      <td>2018-07-04</td>\n",
       "      <td>3</td>\n",
       "      <td>address_105</td>\n",
       "      <td>product_16</td>\n",
       "      <td>2</td>\n",
       "      <td>2</td>\n",
       "      <td>7</td>\n",
       "    </tr>\n",
       "  </tbody>\n",
       "</table>\n",
       "<p>115 rows × 7 columns</p>\n",
       "</div>"
      ],
      "text/plain": [
       "             Дата  Склад   Контрагент Номенклатура  Количество  День недели  \\\n",
       "191165 2018-06-06      3  address_206    product_0           2            2   \n",
       "191166 2018-06-06      3  address_206    product_1           4            2   \n",
       "191167 2018-06-06      3  address_206    product_2           4            2   \n",
       "191168 2018-06-06      3  address_206    product_3           2            2   \n",
       "191169 2018-06-06      3  address_206    product_4           1            2   \n",
       "...           ...    ...          ...          ...         ...          ...   \n",
       "200135 2018-06-13      3   address_83   product_14           1            2   \n",
       "200318 2018-06-13      3  address_102   product_16           2            2   \n",
       "209019 2018-06-20      3  address_105   product_16           2            2   \n",
       "218027 2018-06-27      3  address_105   product_16           2            2   \n",
       "226862 2018-07-04      3  address_105   product_16           2            2   \n",
       "\n",
       "        Месяц  \n",
       "191165      6  \n",
       "191166      6  \n",
       "191167      6  \n",
       "191168      6  \n",
       "191169      6  \n",
       "...       ...  \n",
       "200135      6  \n",
       "200318      6  \n",
       "209019      6  \n",
       "218027      6  \n",
       "226862      7  \n",
       "\n",
       "[115 rows x 7 columns]"
      ]
     },
     "execution_count": 17,
     "metadata": {},
     "output_type": "execute_result"
    }
   ],
   "source": [
    "summerProducts.head()"
   ]
  },
  {
   "cell_type": "code",
   "execution_count": 18,
   "id": "66a80ce7-501d-4464-b3d9-bece2747daba",
   "metadata": {},
   "outputs": [
    {
     "data": {
      "text/html": [
       "<div>\n",
       "<style scoped>\n",
       "    .dataframe tbody tr th:only-of-type {\n",
       "        vertical-align: middle;\n",
       "    }\n",
       "\n",
       "    .dataframe tbody tr th {\n",
       "        vertical-align: top;\n",
       "    }\n",
       "\n",
       "    .dataframe thead th {\n",
       "        text-align: right;\n",
       "    }\n",
       "</style>\n",
       "<table border=\"1\" class=\"dataframe\">\n",
       "  <thead>\n",
       "    <tr style=\"text-align: right;\">\n",
       "      <th></th>\n",
       "      <th>Количество</th>\n",
       "    </tr>\n",
       "    <tr>\n",
       "      <th>Номенклатура</th>\n",
       "      <th></th>\n",
       "    </tr>\n",
       "  </thead>\n",
       "  <tbody>\n",
       "    <tr>\n",
       "      <th>product_0</th>\n",
       "      <td>1324</td>\n",
       "    </tr>\n",
       "    <tr>\n",
       "      <th>product_1</th>\n",
       "      <td>2267</td>\n",
       "    </tr>\n",
       "    <tr>\n",
       "      <th>product_10</th>\n",
       "      <td>129</td>\n",
       "    </tr>\n",
       "    <tr>\n",
       "      <th>product_11</th>\n",
       "      <td>131</td>\n",
       "    </tr>\n",
       "    <tr>\n",
       "      <th>product_12</th>\n",
       "      <td>129</td>\n",
       "    </tr>\n",
       "    <tr>\n",
       "      <th>product_13</th>\n",
       "      <td>253</td>\n",
       "    </tr>\n",
       "    <tr>\n",
       "      <th>product_14</th>\n",
       "      <td>64</td>\n",
       "    </tr>\n",
       "    <tr>\n",
       "      <th>product_15</th>\n",
       "      <td>230</td>\n",
       "    </tr>\n",
       "    <tr>\n",
       "      <th>product_16</th>\n",
       "      <td>26</td>\n",
       "    </tr>\n",
       "    <tr>\n",
       "      <th>product_17</th>\n",
       "      <td>148</td>\n",
       "    </tr>\n",
       "    <tr>\n",
       "      <th>product_18</th>\n",
       "      <td>126</td>\n",
       "    </tr>\n",
       "    <tr>\n",
       "      <th>product_19</th>\n",
       "      <td>123</td>\n",
       "    </tr>\n",
       "    <tr>\n",
       "      <th>product_2</th>\n",
       "      <td>2060</td>\n",
       "    </tr>\n",
       "    <tr>\n",
       "      <th>product_20</th>\n",
       "      <td>78</td>\n",
       "    </tr>\n",
       "    <tr>\n",
       "      <th>product_21</th>\n",
       "      <td>80</td>\n",
       "    </tr>\n",
       "    <tr>\n",
       "      <th>product_22</th>\n",
       "      <td>509</td>\n",
       "    </tr>\n",
       "    <tr>\n",
       "      <th>product_23</th>\n",
       "      <td>68</td>\n",
       "    </tr>\n",
       "    <tr>\n",
       "      <th>product_3</th>\n",
       "      <td>914</td>\n",
       "    </tr>\n",
       "    <tr>\n",
       "      <th>product_4</th>\n",
       "      <td>540</td>\n",
       "    </tr>\n",
       "    <tr>\n",
       "      <th>product_5</th>\n",
       "      <td>480</td>\n",
       "    </tr>\n",
       "    <tr>\n",
       "      <th>product_6</th>\n",
       "      <td>650</td>\n",
       "    </tr>\n",
       "    <tr>\n",
       "      <th>product_7</th>\n",
       "      <td>94</td>\n",
       "    </tr>\n",
       "    <tr>\n",
       "      <th>product_8</th>\n",
       "      <td>94</td>\n",
       "    </tr>\n",
       "  </tbody>\n",
       "</table>\n",
       "</div>"
      ],
      "text/plain": [
       "              Количество\n",
       "Номенклатура            \n",
       "product_0           1324\n",
       "product_1           2267\n",
       "product_10           129\n",
       "product_11           131\n",
       "product_12           129\n",
       "product_13           253\n",
       "product_14            64\n",
       "product_15           230\n",
       "product_16            26\n",
       "product_17           148\n",
       "product_18           126\n",
       "product_19           123\n",
       "product_2           2060\n",
       "product_20            78\n",
       "product_21            80\n",
       "product_22           509\n",
       "product_23            68\n",
       "product_3            914\n",
       "product_4            540\n",
       "product_5            480\n",
       "product_6            650\n",
       "product_7             94\n",
       "product_8             94"
      ]
     },
     "execution_count": 18,
     "metadata": {},
     "output_type": "execute_result"
    }
   ],
   "source": [
    "summerProducts[['Количество']].sum()"
   ]
  },
  {
   "cell_type": "code",
   "execution_count": 19,
   "id": "24c89ce6-8120-4a9f-911f-8e42b568586d",
   "metadata": {},
   "outputs": [
    {
     "name": "stdout",
     "output_type": "stream",
     "text": [
      "Количество    product_1\n",
      "dtype: object\n"
     ]
    }
   ],
   "source": [
    "print(summerProducts[['Количество']].sum().idxmax())"
   ]
  },
  {
   "cell_type": "markdown",
   "id": "66211d92",
   "metadata": {},
   "source": [
    "Скачайте данные по погоде с https://rp5.ru/Архив_погоды_в_Астане (скачайте исходные данные, и далее преобразуйте так, чтобы мы имели Дату и Среднюю температуру за день), объедините таблицу температуры с `grouped_df`, и нарисуйте график `y=['Количество продаж', 'T']`, где Т это температура. А также отдельно график температуры."
   ]
  },
  {
   "cell_type": "code",
   "execution_count": 20,
   "id": "5f707733",
   "metadata": {},
   "outputs": [],
   "source": [
    "\n",
    "df2= pd.read_csv('weather_01043009.csv', \n",
    "    encoding='ANSI',\n",
    "                  parse_dates=False,\n",
    "    sep=';')\n"
   ]
  },
  {
   "cell_type": "code",
   "execution_count": 21,
   "id": "c4e09636-cceb-4692-971c-08263a30e075",
   "metadata": {},
   "outputs": [
    {
     "data": {
      "text/html": [
       "<div>\n",
       "<style scoped>\n",
       "    .dataframe tbody tr th:only-of-type {\n",
       "        vertical-align: middle;\n",
       "    }\n",
       "\n",
       "    .dataframe tbody tr th {\n",
       "        vertical-align: top;\n",
       "    }\n",
       "\n",
       "    .dataframe thead th {\n",
       "        text-align: right;\n",
       "    }\n",
       "</style>\n",
       "<table border=\"1\" class=\"dataframe\">\n",
       "  <thead>\n",
       "    <tr style=\"text-align: right;\">\n",
       "      <th></th>\n",
       "      <th>Местное время в Астане</th>\n",
       "      <th>T</th>\n",
       "      <th>Po</th>\n",
       "      <th>P</th>\n",
       "      <th>Pa</th>\n",
       "      <th>U</th>\n",
       "      <th>DD</th>\n",
       "      <th>Ff</th>\n",
       "      <th>ff10</th>\n",
       "      <th>ff3</th>\n",
       "      <th>...</th>\n",
       "      <th>VV</th>\n",
       "      <th>Td</th>\n",
       "      <th>RRR</th>\n",
       "      <th>tR</th>\n",
       "      <th>E</th>\n",
       "      <th>Tg</th>\n",
       "      <th>E'</th>\n",
       "      <th>sss</th>\n",
       "      <th>T.1</th>\n",
       "      <th>Unnamed: 30</th>\n",
       "    </tr>\n",
       "  </thead>\n",
       "  <tbody>\n",
       "    <tr>\n",
       "      <th>0</th>\n",
       "      <td>30.09.2018 23:00</td>\n",
       "      <td>9.9</td>\n",
       "      <td>732.4</td>\n",
       "      <td>763.8</td>\n",
       "      <td>-0.7</td>\n",
       "      <td>57.0</td>\n",
       "      <td>Ветер, дующий с юга</td>\n",
       "      <td>1</td>\n",
       "      <td>NaN</td>\n",
       "      <td>NaN</td>\n",
       "      <td>...</td>\n",
       "      <td>NaN</td>\n",
       "      <td>01.июн</td>\n",
       "      <td>NaN</td>\n",
       "      <td>NaN</td>\n",
       "      <td>NaN</td>\n",
       "      <td>NaN</td>\n",
       "      <td>NaN</td>\n",
       "      <td>NaN</td>\n",
       "      <td>9.9</td>\n",
       "      <td>9.9</td>\n",
       "    </tr>\n",
       "    <tr>\n",
       "      <th>1</th>\n",
       "      <td>30.09.2018 20:00</td>\n",
       "      <td>11.9</td>\n",
       "      <td>733.1</td>\n",
       "      <td>764.2</td>\n",
       "      <td>-0.5</td>\n",
       "      <td>56.0</td>\n",
       "      <td>Ветер, дующий с юга</td>\n",
       "      <td>1</td>\n",
       "      <td>NaN</td>\n",
       "      <td>NaN</td>\n",
       "      <td>...</td>\n",
       "      <td>NaN</td>\n",
       "      <td>03.фев</td>\n",
       "      <td>NaN</td>\n",
       "      <td>NaN</td>\n",
       "      <td>NaN</td>\n",
       "      <td>NaN</td>\n",
       "      <td>NaN</td>\n",
       "      <td>NaN</td>\n",
       "      <td>11.9</td>\n",
       "      <td>NaN</td>\n",
       "    </tr>\n",
       "    <tr>\n",
       "      <th>2</th>\n",
       "      <td>30.09.2018 17:00</td>\n",
       "      <td>19.1</td>\n",
       "      <td>733.6</td>\n",
       "      <td>764.0</td>\n",
       "      <td>-1.4</td>\n",
       "      <td>24.0</td>\n",
       "      <td>Ветер, дующий с юга</td>\n",
       "      <td>1</td>\n",
       "      <td>NaN</td>\n",
       "      <td>NaN</td>\n",
       "      <td>...</td>\n",
       "      <td>10.0</td>\n",
       "      <td>-2.0</td>\n",
       "      <td>NaN</td>\n",
       "      <td>NaN</td>\n",
       "      <td>NaN</td>\n",
       "      <td>NaN</td>\n",
       "      <td>NaN</td>\n",
       "      <td>NaN</td>\n",
       "      <td>19.1</td>\n",
       "      <td>NaN</td>\n",
       "    </tr>\n",
       "    <tr>\n",
       "      <th>3</th>\n",
       "      <td>30.09.2018 14:00</td>\n",
       "      <td>19.7</td>\n",
       "      <td>735.0</td>\n",
       "      <td>765.4</td>\n",
       "      <td>-1.9</td>\n",
       "      <td>26.0</td>\n",
       "      <td>Ветер, дующий с юга</td>\n",
       "      <td>1</td>\n",
       "      <td>NaN</td>\n",
       "      <td>NaN</td>\n",
       "      <td>...</td>\n",
       "      <td>10.0</td>\n",
       "      <td>-0.4</td>\n",
       "      <td>NaN</td>\n",
       "      <td>NaN</td>\n",
       "      <td>NaN</td>\n",
       "      <td>NaN</td>\n",
       "      <td>NaN</td>\n",
       "      <td>NaN</td>\n",
       "      <td>19.7</td>\n",
       "      <td>NaN</td>\n",
       "    </tr>\n",
       "    <tr>\n",
       "      <th>4</th>\n",
       "      <td>30.09.2018 11:00</td>\n",
       "      <td>16.5</td>\n",
       "      <td>736.9</td>\n",
       "      <td>767.7</td>\n",
       "      <td>-0.7</td>\n",
       "      <td>43.0</td>\n",
       "      <td>Ветер, дующий с юго-юго-востока</td>\n",
       "      <td>1</td>\n",
       "      <td>NaN</td>\n",
       "      <td>NaN</td>\n",
       "      <td>...</td>\n",
       "      <td>10.0</td>\n",
       "      <td>03.июл</td>\n",
       "      <td>NaN</td>\n",
       "      <td>NaN</td>\n",
       "      <td>NaN</td>\n",
       "      <td>NaN</td>\n",
       "      <td>NaN</td>\n",
       "      <td>NaN</td>\n",
       "      <td>16.5</td>\n",
       "      <td>NaN</td>\n",
       "    </tr>\n",
       "  </tbody>\n",
       "</table>\n",
       "<p>5 rows × 31 columns</p>\n",
       "</div>"
      ],
      "text/plain": [
       "  Местное время в Астане     T     Po      P    Pa     U  \\\n",
       "0       30.09.2018 23:00   9.9  732.4  763.8  -0.7  57.0   \n",
       "1       30.09.2018 20:00  11.9  733.1  764.2  -0.5  56.0   \n",
       "2       30.09.2018 17:00  19.1  733.6  764.0  -1.4  24.0   \n",
       "3       30.09.2018 14:00  19.7  735.0  765.4  -1.9  26.0   \n",
       "4       30.09.2018 11:00  16.5  736.9  767.7  -0.7  43.0   \n",
       "\n",
       "                                DD  Ff  ff10  ff3  ...    VV      Td  RRR  tR  \\\n",
       "0              Ветер, дующий с юга   1   NaN  NaN  ...   NaN  01.июн  NaN NaN   \n",
       "1              Ветер, дующий с юга   1   NaN  NaN  ...   NaN  03.фев  NaN NaN   \n",
       "2              Ветер, дующий с юга   1   NaN  NaN  ...  10.0    -2.0  NaN NaN   \n",
       "3              Ветер, дующий с юга   1   NaN  NaN  ...  10.0    -0.4  NaN NaN   \n",
       "4  Ветер, дующий с юго-юго-востока   1   NaN  NaN  ...  10.0  03.июл  NaN NaN   \n",
       "\n",
       "     E  Tg   E'  sss   T.1 Unnamed: 30  \n",
       "0  NaN NaN  NaN  NaN   9.9         9.9  \n",
       "1  NaN NaN  NaN  NaN  11.9         NaN  \n",
       "2  NaN NaN  NaN  NaN  19.1         NaN  \n",
       "3  NaN NaN  NaN  NaN  19.7         NaN  \n",
       "4  NaN NaN  NaN  NaN  16.5         NaN  \n",
       "\n",
       "[5 rows x 31 columns]"
      ]
     },
     "execution_count": 21,
     "metadata": {},
     "output_type": "execute_result"
    }
   ],
   "source": [
    "df2.head()"
   ]
  },
  {
   "cell_type": "code",
   "execution_count": 22,
   "id": "05d3f201-b521-4236-b36d-8d29e6f4324f",
   "metadata": {},
   "outputs": [],
   "source": [
    "df2 = df2[['Местное время в Астане','T']]"
   ]
  },
  {
   "cell_type": "code",
   "execution_count": 23,
   "id": "8a1a0338-6676-4093-918e-02b7fab72ceb",
   "metadata": {},
   "outputs": [],
   "source": [
    "columns = list(df2.columns)\n",
    "columns[0] = 'Дата'\n",
    "df2.columns = columns"
   ]
  },
  {
   "cell_type": "code",
   "execution_count": 24,
   "id": "d5be0514-7317-409e-9e82-ceed8bb6fbb0",
   "metadata": {},
   "outputs": [
    {
     "name": "stderr",
     "output_type": "stream",
     "text": [
      "C:\\Users\\Win10\\AppData\\Local\\Temp\\ipykernel_11544\\155096490.py:1: UserWarning: Parsing dates in %d.%m.%Y %H:%M format when dayfirst=False (the default) was specified. Pass `dayfirst=True` or specify a format to silence this warning.\n",
      "  df2['Дата'] = pd.to_datetime(df2['Дата']).dt.date\n"
     ]
    }
   ],
   "source": [
    "df2['Дата'] = pd.to_datetime(df2['Дата']).dt.date"
   ]
  },
  {
   "cell_type": "code",
   "execution_count": 25,
   "id": "9ba49d5b-532d-4071-9256-f4f5f320486f",
   "metadata": {},
   "outputs": [
    {
     "data": {
      "text/html": [
       "<div>\n",
       "<style scoped>\n",
       "    .dataframe tbody tr th:only-of-type {\n",
       "        vertical-align: middle;\n",
       "    }\n",
       "\n",
       "    .dataframe tbody tr th {\n",
       "        vertical-align: top;\n",
       "    }\n",
       "\n",
       "    .dataframe thead th {\n",
       "        text-align: right;\n",
       "    }\n",
       "</style>\n",
       "<table border=\"1\" class=\"dataframe\">\n",
       "  <thead>\n",
       "    <tr style=\"text-align: right;\">\n",
       "      <th></th>\n",
       "      <th>Дата</th>\n",
       "      <th>T</th>\n",
       "    </tr>\n",
       "  </thead>\n",
       "  <tbody>\n",
       "    <tr>\n",
       "      <th>0</th>\n",
       "      <td>2018-04-01</td>\n",
       "      <td>-7.6875</td>\n",
       "    </tr>\n",
       "    <tr>\n",
       "      <th>1</th>\n",
       "      <td>2018-04-02</td>\n",
       "      <td>-5.2625</td>\n",
       "    </tr>\n",
       "    <tr>\n",
       "      <th>2</th>\n",
       "      <td>2018-04-03</td>\n",
       "      <td>-2.1750</td>\n",
       "    </tr>\n",
       "    <tr>\n",
       "      <th>3</th>\n",
       "      <td>2018-04-04</td>\n",
       "      <td>-0.5875</td>\n",
       "    </tr>\n",
       "    <tr>\n",
       "      <th>4</th>\n",
       "      <td>2018-04-05</td>\n",
       "      <td>2.9000</td>\n",
       "    </tr>\n",
       "  </tbody>\n",
       "</table>\n",
       "</div>"
      ],
      "text/plain": [
       "         Дата       T\n",
       "0  2018-04-01 -7.6875\n",
       "1  2018-04-02 -5.2625\n",
       "2  2018-04-03 -2.1750\n",
       "3  2018-04-04 -0.5875\n",
       "4  2018-04-05  2.9000"
      ]
     },
     "execution_count": 25,
     "metadata": {},
     "output_type": "execute_result"
    }
   ],
   "source": [
    "df2 = df2.groupby('Дата')['T'].mean().reset_index()\n",
    "df2.head()"
   ]
  },
  {
   "cell_type": "code",
   "execution_count": 26,
   "id": "df670e35-1ee7-4268-b64d-3db8b297d463",
   "metadata": {},
   "outputs": [],
   "source": [
    "df2['Дата'] = pd.to_datetime(df2['Дата'])"
   ]
  },
  {
   "cell_type": "code",
   "execution_count": 27,
   "id": "d87fc0ce-a7cc-4d37-9cae-23c1163da362",
   "metadata": {},
   "outputs": [
    {
     "name": "stdout",
     "output_type": "stream",
     "text": [
      "Дата          datetime64[ns]\n",
      "Количество             int64\n",
      "dtype: object\n",
      "Дата    datetime64[ns]\n",
      "T              float64\n",
      "dtype: object\n"
     ]
    }
   ],
   "source": [
    "print(grouped_df.dtypes)\n",
    "print(df2.dtypes)"
   ]
  },
  {
   "cell_type": "code",
   "execution_count": 28,
   "id": "1d80b367-449c-422a-a5b3-a8b1f208e0b7",
   "metadata": {},
   "outputs": [
    {
     "data": {
      "text/html": [
       "<div>\n",
       "<style scoped>\n",
       "    .dataframe tbody tr th:only-of-type {\n",
       "        vertical-align: middle;\n",
       "    }\n",
       "\n",
       "    .dataframe tbody tr th {\n",
       "        vertical-align: top;\n",
       "    }\n",
       "\n",
       "    .dataframe thead th {\n",
       "        text-align: right;\n",
       "    }\n",
       "</style>\n",
       "<table border=\"1\" class=\"dataframe\">\n",
       "  <thead>\n",
       "    <tr style=\"text-align: right;\">\n",
       "      <th></th>\n",
       "      <th>Дата</th>\n",
       "      <th>Количество</th>\n",
       "      <th>T</th>\n",
       "    </tr>\n",
       "  </thead>\n",
       "  <tbody>\n",
       "    <tr>\n",
       "      <th>0</th>\n",
       "      <td>2018-04-01</td>\n",
       "      <td>3786</td>\n",
       "      <td>-7.6875</td>\n",
       "    </tr>\n",
       "    <tr>\n",
       "      <th>1</th>\n",
       "      <td>2018-04-03</td>\n",
       "      <td>4014</td>\n",
       "      <td>-2.1750</td>\n",
       "    </tr>\n",
       "    <tr>\n",
       "      <th>2</th>\n",
       "      <td>2018-04-04</td>\n",
       "      <td>4056</td>\n",
       "      <td>-0.5875</td>\n",
       "    </tr>\n",
       "    <tr>\n",
       "      <th>3</th>\n",
       "      <td>2018-04-05</td>\n",
       "      <td>4025</td>\n",
       "      <td>2.9000</td>\n",
       "    </tr>\n",
       "    <tr>\n",
       "      <th>4</th>\n",
       "      <td>2018-04-06</td>\n",
       "      <td>3802</td>\n",
       "      <td>3.1500</td>\n",
       "    </tr>\n",
       "  </tbody>\n",
       "</table>\n",
       "</div>"
      ],
      "text/plain": [
       "        Дата  Количество       T\n",
       "0 2018-04-01        3786 -7.6875\n",
       "1 2018-04-03        4014 -2.1750\n",
       "2 2018-04-04        4056 -0.5875\n",
       "3 2018-04-05        4025  2.9000\n",
       "4 2018-04-06        3802  3.1500"
      ]
     },
     "execution_count": 28,
     "metadata": {},
     "output_type": "execute_result"
    }
   ],
   "source": [
    "df_merged = pd.merge(grouped_df, df2, on = 'Дата', how = 'inner')\n",
    "df_merged.head()"
   ]
  },
  {
   "cell_type": "code",
   "execution_count": 61,
   "id": "968a508b-212c-431b-a18e-23dff3e918a9",
   "metadata": {},
   "outputs": [
    {
     "data": {
      "text/plain": [
       "<Figure size 1000x600 with 0 Axes>"
      ]
     },
     "metadata": {},
     "output_type": "display_data"
    },
    {
     "data": {
      "image/png": "[encoded data removed]",
      "text/plain": [
       "<Figure size 800x500 with 2 Axes>"
      ]
     },
     "metadata": {},
     "output_type": "display_data"
    }
   ],
   "source": [
    "x = df_merged['Дата']\n",
    "y1 = df_merged['Количество']\n",
    "y2 = df_merged['T']\n",
    "\n",
    "plt.figure(figsize = (10,6))\n",
    "fig, ax1 = plt.subplots(figsize=(8, 5))\n",
    "plt.plot(x,y1, color = 'b')\n",
    "ax1.tick_params(axis='y', labelcolor='b')\n",
    "ax1.set_ylabel('Количество', color='b') \n",
    "\n",
    "\n",
    "ax2 = ax1.twinx() \n",
    "ax2.plot(x, y2, 'r--')\n",
    "ax2.tick_params(axis='y', labelcolor='r') \n",
    "ax2.set_ylabel('Температура', color='r') \n",
    "\n",
    "\n",
    "plt.title(\"Количество продаж и T\")\n",
    "\n",
    "plt.show()"
   ]
  },
  {
   "cell_type": "code",
   "execution_count": 58,
   "id": "56a3f514-ff26-4a47-855f-d5f9d0a40356",
   "metadata": {},
   "outputs": [
    {
     "data": {
      "image/png": "[encoded data removed]",
      "text/plain": [
       "<Figure size 640x480 with 1 Axes>"
      ]
     },
     "metadata": {},
     "output_type": "display_data"
    }
   ],
   "source": [
    "plt.plot(x, df_merged['T'])\n",
    "plt.title('Температура')\n",
    "plt.show()"
   ]
  },
  {
   "cell_type": "code",
   "execution_count": null,
   "id": "3355152e-f0e3-4c3f-a861-08a9fe0db863",
   "metadata": {},
   "outputs": [],
   "source": []
  }
 ],
 "metadata": {
  "kernelspec": {
   "display_name": "Python 3 (ipykernel)",
   "language": "python",
   "name": "python3"
  },
  "language_info": {
   "codemirror_mode": {
    "name": "ipython",
    "version": 3
   },
   "file_extension": ".py",
   "mimetype": "text/x-python",
   "name": "python",
   "nbconvert_exporter": "python",
   "pygments_lexer": "ipython3",
   "version": "3.12.4"
  }
 },
 "nbformat": 4,
 "nbformat_minor": 5
}
